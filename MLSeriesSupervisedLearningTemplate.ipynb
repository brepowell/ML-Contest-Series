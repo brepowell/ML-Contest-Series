{
  "nbformat": 4,
  "nbformat_minor": 0,
  "metadata": {
    "colab": {
      "provenance": [],
      "toc_visible": true,
      "authorship_tag": "ABX9TyPaS7FhskJG981h+p2TZBwm",
      "include_colab_link": true
    },
    "kernelspec": {
      "name": "python3",
      "display_name": "Python 3"
    },
    "language_info": {
      "name": "python"
    }
  },
  "cells": [
    {
      "cell_type": "markdown",
      "metadata": {
        "id": "view-in-github",
        "colab_type": "text"
      },
      "source": [
        "<a href=\"https://colab.research.google.com/github/brepowell/ML-Contest-Series/blob/main/MLSeriesSupervisedLearningTemplate.ipynb\" target=\"_parent\"><img src=\"https://colab.research.google.com/assets/colab-badge.svg\" alt=\"Open In Colab\"/></a>"
      ]
    },
    {
      "cell_type": "markdown",
      "source": [
        "# To run:\n",
        "Use an IDE that will allow you to open a Jupyter Notebook.\n",
        "\n",
        "For example, use Anaconda Navigator to open Visual Studio Code.\n",
        "\n",
        "You may need to select a kernel to run the program."
      ],
      "metadata": {
        "id": "FM6YqhcasT5w"
      }
    },
    {
      "cell_type": "markdown",
      "source": [
        "# STEP 1: DATA GATHERING / FEATURE EXPLORATION\n",
        "\n",
        "Here you are just looking at the data and starting to understand it.\n",
        "\n",
        "Try displaying the data in different ways."
      ],
      "metadata": {
        "id": "05Z04BNFs2Li"
      }
    },
    {
      "cell_type": "markdown",
      "source": [
        "## Load Data"
      ],
      "metadata": {
        "id": "EzGtbSkGvEJi"
      }
    },
    {
      "cell_type": "code",
      "source": [
        "# Use Pandas to load the data into a dataframe\n",
        "# Ex) emailData = pd.read_csv('emails.csv')\n",
        "\n"
      ],
      "metadata": {
        "id": "6s_C4qtUv1KR"
      },
      "execution_count": null,
      "outputs": []
    },
    {
      "cell_type": "markdown",
      "source": [
        "## Check the Shape of the Data"
      ],
      "metadata": {
        "id": "9gpigRpD4Q2F"
      }
    },
    {
      "cell_type": "code",
      "source": [],
      "metadata": {
        "id": "I1rbUje94Y0z"
      },
      "execution_count": null,
      "outputs": []
    },
    {
      "cell_type": "markdown",
      "source": [
        "## Check for NaN or null values"
      ],
      "metadata": {
        "id": "Le8LahNruOiz"
      }
    },
    {
      "cell_type": "code",
      "source": [],
      "metadata": {
        "id": "CNj6sUTUwgQ7"
      },
      "execution_count": null,
      "outputs": []
    },
    {
      "cell_type": "markdown",
      "source": [
        "## Check for Duplicates"
      ],
      "metadata": {
        "id": "Lhq3BKnTuSva"
      }
    },
    {
      "cell_type": "code",
      "source": [],
      "metadata": {
        "id": "hBJ8ne52wfGO"
      },
      "execution_count": null,
      "outputs": []
    },
    {
      "cell_type": "markdown",
      "source": [
        "## Check for Imbalanced Data"
      ],
      "metadata": {
        "id": "MeOO_tCzu59Z"
      }
    },
    {
      "cell_type": "code",
      "source": [],
      "metadata": {
        "id": "7uVuUwu_wels"
      },
      "execution_count": null,
      "outputs": []
    },
    {
      "cell_type": "markdown",
      "source": [
        "# STEP 2: FEATURE ENGINEERING / DATA CLEANING / PRE-PROCESSING TECHNIQUES"
      ],
      "metadata": {
        "id": "bHuGfumEvkua"
      }
    },
    {
      "cell_type": "markdown",
      "source": [
        "## Label your target variable"
      ],
      "metadata": {
        "id": "d0S1rGcDvSl5"
      }
    },
    {
      "cell_type": "code",
      "source": [
        "# Ex) Change \"yes\" or \"no\" to 1 or 0 so the model understands the label"
      ],
      "metadata": {
        "id": "MYS-_zVcwd_r"
      },
      "execution_count": null,
      "outputs": []
    },
    {
      "cell_type": "code",
      "source": [],
      "metadata": {
        "id": "-Mr2SBa4wdEo"
      },
      "execution_count": null,
      "outputs": []
    },
    {
      "cell_type": "markdown",
      "source": [
        "## Fix the data imbalance and other problems from STEP 1"
      ],
      "metadata": {
        "id": "EPW13lhkwlS6"
      }
    },
    {
      "cell_type": "code",
      "source": [],
      "metadata": {
        "id": "y2sciOk5yIA5"
      },
      "execution_count": null,
      "outputs": []
    },
    {
      "cell_type": "markdown",
      "source": [
        "## Seperate features (x) from labels (y)"
      ],
      "metadata": {
        "id": "cNaZexBKwrWx"
      }
    },
    {
      "cell_type": "code",
      "source": [],
      "metadata": {
        "id": "1mhjJgSGyHUB"
      },
      "execution_count": null,
      "outputs": []
    },
    {
      "cell_type": "markdown",
      "source": [
        "## Feature Reduction"
      ],
      "metadata": {
        "id": "ijBd2InWw2BN"
      }
    },
    {
      "cell_type": "code",
      "source": [],
      "metadata": {
        "id": "b__jQ5YJyE_G"
      },
      "execution_count": null,
      "outputs": []
    },
    {
      "cell_type": "markdown",
      "source": [
        "## Normalize / Scale the Data"
      ],
      "metadata": {
        "id": "gBO67tBlw8Ss"
      }
    },
    {
      "cell_type": "code",
      "source": [],
      "metadata": {
        "id": "g0NQS2PLyEeH"
      },
      "execution_count": null,
      "outputs": []
    },
    {
      "cell_type": "markdown",
      "source": [
        "## Investigate Variance or Feature Importance"
      ],
      "metadata": {
        "id": "Lq06YLwyxBor"
      }
    },
    {
      "cell_type": "code",
      "source": [],
      "metadata": {
        "id": "RX9AJBYQyD3l"
      },
      "execution_count": null,
      "outputs": []
    },
    {
      "cell_type": "markdown",
      "source": [
        "# STEP 3: MODEL TRAINING & BUILDING\n"
      ],
      "metadata": {
        "id": "gq8yldaFxbq-"
      }
    },
    {
      "cell_type": "code",
      "source": [],
      "metadata": {
        "id": "khN89Pe7xiN4"
      },
      "execution_count": null,
      "outputs": []
    },
    {
      "cell_type": "markdown",
      "source": [
        "## Split into Train and Test data"
      ],
      "metadata": {
        "id": "Hh8N0_yGxi66"
      }
    },
    {
      "cell_type": "code",
      "source": [],
      "metadata": {
        "id": "pAWwUcSEyCk0"
      },
      "execution_count": null,
      "outputs": []
    },
    {
      "cell_type": "markdown",
      "source": [
        "## Use a Model"
      ],
      "metadata": {
        "id": "iXKSCFoRxumo"
      }
    },
    {
      "cell_type": "code",
      "source": [],
      "metadata": {
        "id": "QpDhyjwNyCDm"
      },
      "execution_count": null,
      "outputs": []
    },
    {
      "cell_type": "markdown",
      "source": [
        "## Perform a Hyperparameter Search"
      ],
      "metadata": {
        "id": "O4SGGaDWxz9X"
      }
    },
    {
      "cell_type": "code",
      "source": [],
      "metadata": {
        "id": "qckGo2oRyAML"
      },
      "execution_count": null,
      "outputs": []
    },
    {
      "cell_type": "markdown",
      "source": [
        "## Save the best model"
      ],
      "metadata": {
        "id": "1bap9XXTynZZ"
      }
    },
    {
      "cell_type": "code",
      "source": [],
      "metadata": {
        "id": "85oE97gyyve_"
      },
      "execution_count": null,
      "outputs": []
    },
    {
      "cell_type": "markdown",
      "source": [
        "# STEP 4: EVALUATE THE MODEL"
      ],
      "metadata": {
        "id": "ZCNgUErzyQ54"
      }
    },
    {
      "cell_type": "markdown",
      "source": [
        "## Look at Metrics - Ex) Precision, Recall, F1 score"
      ],
      "metadata": {
        "id": "FwZk0r8ry-Hu"
      }
    },
    {
      "cell_type": "code",
      "source": [],
      "metadata": {
        "id": "PS9-fA9uzNxF"
      },
      "execution_count": null,
      "outputs": []
    },
    {
      "cell_type": "markdown",
      "source": [
        "## Plot a Confusion Matrix"
      ],
      "metadata": {
        "id": "FftWhxZ0ycNr"
      }
    },
    {
      "cell_type": "code",
      "source": [],
      "metadata": {
        "id": "G-A8xydGywLa"
      },
      "execution_count": null,
      "outputs": []
    },
    {
      "cell_type": "markdown",
      "source": [
        "# STEP 5: DEPLOY MODEL"
      ],
      "metadata": {
        "id": "jg77bvA51bzL"
      }
    },
    {
      "cell_type": "code",
      "source": [],
      "metadata": {
        "id": "Xq1wWTmo2Xfl"
      },
      "execution_count": null,
      "outputs": []
    }
  ]
}